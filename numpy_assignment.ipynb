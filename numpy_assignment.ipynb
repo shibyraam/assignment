{
 "cells": [
  {
   "cell_type": "markdown",
   "id": "5f6ddcf2",
   "metadata": {},
   "source": [
    "#### 1. Import the NumPy library and create a 2D array data from the given data in the table above."
   ]
  },
  {
   "cell_type": "code",
   "execution_count": 1,
   "id": "c8a9f184",
   "metadata": {},
   "outputs": [
    {
     "name": "stdout",
     "output_type": "stream",
     "text": [
      "['Name', 'Gender', 'Age', 'Height (cm)', 'Weight (kg)', 'City'] \n",
      " [['Alice' 'Female' 25 165 58 'New York']\n",
      " ['Bob' 'Male' 30 180 80 'Los Angeles']\n",
      " ['Charlie' 'Male' 35 175 70 'Chicago']\n",
      " ['Diana' 'Female' 28 170 65 'Miami']\n",
      " ['Eva' 'Female' 27 175 60 'New York']\n",
      " ['Frank' 'Male' 40 190 85 'Houston']\n",
      " ['Grace' 'Female' 32 168 55 'Chicago']\n",
      " ['Henry' 'Male' 45 175 75 'Los Angeles']\n",
      " ['Ivy' 'Female' 26 172 63 'Miami']\n",
      " ['Jack' 'Male' 28 180 78 'New York']]\n"
     ]
    }
   ],
   "source": [
    "# import numpy and pandas is reading purpose\n",
    "import numpy as np\n",
    "import pandas as pd\n",
    "import csv\n",
    "# read the csv file in pandas \n",
    "df = pd.read_csv('padas_question.csv')\n",
    "# get list in index\n",
    "x=list(df)\n",
    "# convert to numpy 2d array\n",
    "arr = np.array(df,order='K',dtype=None)\n",
    "\n",
    "# print the result\n",
    "print (x,'\\n',arr)"
   ]
  },
  {
   "cell_type": "markdown",
   "id": "ab1e46f2",
   "metadata": {},
   "source": [
    "#### 2. Print the shape of the data array."
   ]
  },
  {
   "cell_type": "code",
   "execution_count": 4,
   "id": "2c9c0eb5",
   "metadata": {},
   "outputs": [
    {
     "name": "stdout",
     "output_type": "stream",
     "text": [
      "(10, 6)\n"
     ]
    }
   ],
   "source": [
    "print (arr.shape)"
   ]
  },
  {
   "cell_type": "markdown",
   "id": "20463f72",
   "metadata": {},
   "source": [
    "#### 3. Extract the column of heights from the data array and assign it to a new variable heights"
   ]
  },
  {
   "cell_type": "code",
   "execution_count": 5,
   "id": "539b6618",
   "metadata": {},
   "outputs": [],
   "source": [
    "height = arr[:,3]"
   ]
  },
  {
   "cell_type": "code",
   "execution_count": 6,
   "id": "50a39ce1",
   "metadata": {},
   "outputs": [
    {
     "data": {
      "text/plain": [
       "array([165, 180, 175, 170, 175, 190, 168, 175, 172, 180], dtype=object)"
      ]
     },
     "execution_count": 6,
     "metadata": {},
     "output_type": "execute_result"
    }
   ],
   "source": [
    "height"
   ]
  },
  {
   "cell_type": "markdown",
   "id": "1446c2c9",
   "metadata": {},
   "source": [
    "#### 4. Calculate the mean height of the group using NumPy."
   ]
  },
  {
   "cell_type": "code",
   "execution_count": 13,
   "id": "c42bb71f",
   "metadata": {},
   "outputs": [
    {
     "name": "stdout",
     "output_type": "stream",
     "text": [
      "175.0\n"
     ]
    }
   ],
   "source": [
    "print (np.mean(height))"
   ]
  },
  {
   "cell_type": "markdown",
   "id": "887f222e",
   "metadata": {},
   "source": [
    "#### 5. Extract the rows of females from the data array and assign it to a new variable females."
   ]
  },
  {
   "cell_type": "code",
   "execution_count": 28,
   "id": "f7977ea8",
   "metadata": {},
   "outputs": [],
   "source": [
    "gender=np.atleast_2d(arr[arr[:,1]=='Female'])"
   ]
  },
  {
   "cell_type": "code",
   "execution_count": 29,
   "id": "036be068",
   "metadata": {},
   "outputs": [
    {
     "data": {
      "text/plain": [
       "array([['Alice', 'Female', 25, 165, 58, 'New York'],\n",
       "       ['Diana', 'Female', 28, 170, 65, 'Miami'],\n",
       "       ['Eva', 'Female', 27, 175, 60, 'New York'],\n",
       "       ['Grace', 'Female', 32, 168, 55, 'Chicago'],\n",
       "       ['Ivy', 'Female', 26, 172, 63, 'Miami']], dtype=object)"
      ]
     },
     "execution_count": 29,
     "metadata": {},
     "output_type": "execute_result"
    }
   ],
   "source": [
    "gender"
   ]
  },
  {
   "cell_type": "code",
   "execution_count": 52,
   "id": "fa9a545d",
   "metadata": {},
   "outputs": [],
   "source": [
    "arr1 = np.array([['Girl', 'Female', 25, 165, 58, 'Coimbatore']])"
   ]
  },
  {
   "cell_type": "code",
   "execution_count": 56,
   "id": "eae91d1f",
   "metadata": {},
   "outputs": [],
   "source": [
    "newvar = np.concatenate((gender,arr1))"
   ]
  },
  {
   "cell_type": "code",
   "execution_count": 57,
   "id": "28d16a6a",
   "metadata": {},
   "outputs": [
    {
     "data": {
      "text/plain": [
       "array([['Alice', 'Female', 25, 165, 58, 'New York'],\n",
       "       ['Diana', 'Female', 28, 170, 65, 'Miami'],\n",
       "       ['Eva', 'Female', 27, 175, 60, 'New York'],\n",
       "       ['Grace', 'Female', 32, 168, 55, 'Chicago'],\n",
       "       ['Ivy', 'Female', 26, 172, 63, 'Miami'],\n",
       "       ['Girl', 'Female', '25', '165', '58', 'Coimbatore']], dtype=object)"
      ]
     },
     "execution_count": 57,
     "metadata": {},
     "output_type": "execute_result"
    }
   ],
   "source": [
    "newvar"
   ]
  },
  {
   "cell_type": "markdown",
   "id": "27914a90",
   "metadata": {},
   "source": [
    "#### 6. Calculate the mean weight of the females in the group using NumPy"
   ]
  },
  {
   "cell_type": "code",
   "execution_count": 65,
   "id": "6aa33ac1",
   "metadata": {},
   "outputs": [
    {
     "name": "stdout",
     "output_type": "stream",
     "text": [
      "[58 80 70 65 60 85 55 75 63 78] \n",
      " 68.9\n"
     ]
    }
   ],
   "source": [
    "weight = arr[:,4]\n",
    "print (weight,'\\n', np.mean(weight))"
   ]
  },
  {
   "cell_type": "code",
   "execution_count": null,
   "id": "32196e44",
   "metadata": {},
   "outputs": [],
   "source": []
  }
 ],
 "metadata": {
  "kernelspec": {
   "display_name": "Python 3 (ipykernel)",
   "language": "python",
   "name": "python3"
  },
  "language_info": {
   "codemirror_mode": {
    "name": "ipython",
    "version": 3
   },
   "file_extension": ".py",
   "mimetype": "text/x-python",
   "name": "python",
   "nbconvert_exporter": "python",
   "pygments_lexer": "ipython3",
   "version": "3.10.0"
  }
 },
 "nbformat": 4,
 "nbformat_minor": 5
}
