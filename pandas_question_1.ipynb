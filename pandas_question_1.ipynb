{
 "cells": [
  {
   "cell_type": "markdown",
   "id": "2f188637",
   "metadata": {},
   "source": [
    "##### Import pandas and read the data into a DataFrame. Print the first 5 rows of the DataFrame"
   ]
  },
  {
   "cell_type": "code",
   "execution_count": 1,
   "id": "c32d6f51",
   "metadata": {},
   "outputs": [],
   "source": [
    "import pandas as pd\n",
    "import numpy as np"
   ]
  },
  {
   "cell_type": "code",
   "execution_count": 2,
   "id": "cf3b1888",
   "metadata": {},
   "outputs": [],
   "source": [
    "df=pd.read_csv('padas_question.csv')"
   ]
  },
  {
   "cell_type": "code",
   "execution_count": 6,
   "id": "845d899c",
   "metadata": {},
   "outputs": [
    {
     "data": {
      "text/html": [
       "<div>\n",
       "<style scoped>\n",
       "    .dataframe tbody tr th:only-of-type {\n",
       "        vertical-align: middle;\n",
       "    }\n",
       "\n",
       "    .dataframe tbody tr th {\n",
       "        vertical-align: top;\n",
       "    }\n",
       "\n",
       "    .dataframe thead th {\n",
       "        text-align: right;\n",
       "    }\n",
       "</style>\n",
       "<table border=\"1\" class=\"dataframe\">\n",
       "  <thead>\n",
       "    <tr style=\"text-align: right;\">\n",
       "      <th></th>\n",
       "      <th>Name</th>\n",
       "      <th>Gender</th>\n",
       "      <th>Age</th>\n",
       "      <th>Height (cm)</th>\n",
       "      <th>Weight (kg)</th>\n",
       "      <th>City</th>\n",
       "    </tr>\n",
       "  </thead>\n",
       "  <tbody>\n",
       "    <tr>\n",
       "      <th>0</th>\n",
       "      <td>Alice</td>\n",
       "      <td>Female</td>\n",
       "      <td>25</td>\n",
       "      <td>165</td>\n",
       "      <td>58</td>\n",
       "      <td>New York</td>\n",
       "    </tr>\n",
       "    <tr>\n",
       "      <th>1</th>\n",
       "      <td>Bob</td>\n",
       "      <td>Male</td>\n",
       "      <td>30</td>\n",
       "      <td>180</td>\n",
       "      <td>80</td>\n",
       "      <td>Los Angeles</td>\n",
       "    </tr>\n",
       "    <tr>\n",
       "      <th>2</th>\n",
       "      <td>Charlie</td>\n",
       "      <td>Male</td>\n",
       "      <td>35</td>\n",
       "      <td>175</td>\n",
       "      <td>70</td>\n",
       "      <td>Chicago</td>\n",
       "    </tr>\n",
       "    <tr>\n",
       "      <th>3</th>\n",
       "      <td>Diana</td>\n",
       "      <td>Female</td>\n",
       "      <td>28</td>\n",
       "      <td>170</td>\n",
       "      <td>65</td>\n",
       "      <td>Miami</td>\n",
       "    </tr>\n",
       "    <tr>\n",
       "      <th>4</th>\n",
       "      <td>Eva</td>\n",
       "      <td>Female</td>\n",
       "      <td>27</td>\n",
       "      <td>175</td>\n",
       "      <td>60</td>\n",
       "      <td>New York</td>\n",
       "    </tr>\n",
       "  </tbody>\n",
       "</table>\n",
       "</div>"
      ],
      "text/plain": [
       "      Name  Gender  Age  Height (cm)  Weight (kg)         City\n",
       "0    Alice  Female   25          165           58     New York\n",
       "1      Bob    Male   30          180           80  Los Angeles\n",
       "2  Charlie    Male   35          175           70      Chicago\n",
       "3    Diana  Female   28          170           65        Miami\n",
       "4      Eva  Female   27          175           60     New York"
      ]
     },
     "execution_count": 6,
     "metadata": {},
     "output_type": "execute_result"
    }
   ],
   "source": [
    "df.head(5)"
   ]
  },
  {
   "cell_type": "markdown",
   "id": "7e177cec",
   "metadata": {},
   "source": [
    "##### Print the number of rows and columns in the DataFrame"
   ]
  },
  {
   "cell_type": "code",
   "execution_count": 10,
   "id": "89b0db9f",
   "metadata": {},
   "outputs": [],
   "source": [
    "row=len(df.index)\n",
    "column=len(df.columns)"
   ]
  },
  {
   "cell_type": "code",
   "execution_count": 13,
   "id": "b2f57923",
   "metadata": {},
   "outputs": [
    {
     "name": "stdout",
     "output_type": "stream",
     "text": [
      "Total Row is:  10\n",
      "Total column is:  6\n"
     ]
    }
   ],
   "source": [
    "print('Total Row is: ',row)\n",
    "print('Total column is: ',column)"
   ]
  },
  {
   "cell_type": "markdown",
   "id": "fe9b29c8",
   "metadata": {},
   "source": [
    "##### Print the null value count"
   ]
  },
  {
   "cell_type": "code",
   "execution_count": 14,
   "id": "884a5c0f",
   "metadata": {},
   "outputs": [],
   "source": [
    "null_value=df.isnull()"
   ]
  },
  {
   "cell_type": "code",
   "execution_count": 15,
   "id": "46a77c5d",
   "metadata": {},
   "outputs": [
    {
     "data": {
      "text/html": [
       "<div>\n",
       "<style scoped>\n",
       "    .dataframe tbody tr th:only-of-type {\n",
       "        vertical-align: middle;\n",
       "    }\n",
       "\n",
       "    .dataframe tbody tr th {\n",
       "        vertical-align: top;\n",
       "    }\n",
       "\n",
       "    .dataframe thead th {\n",
       "        text-align: right;\n",
       "    }\n",
       "</style>\n",
       "<table border=\"1\" class=\"dataframe\">\n",
       "  <thead>\n",
       "    <tr style=\"text-align: right;\">\n",
       "      <th></th>\n",
       "      <th>Name</th>\n",
       "      <th>Gender</th>\n",
       "      <th>Age</th>\n",
       "      <th>Height (cm)</th>\n",
       "      <th>Weight (kg)</th>\n",
       "      <th>City</th>\n",
       "    </tr>\n",
       "  </thead>\n",
       "  <tbody>\n",
       "    <tr>\n",
       "      <th>0</th>\n",
       "      <td>False</td>\n",
       "      <td>False</td>\n",
       "      <td>False</td>\n",
       "      <td>False</td>\n",
       "      <td>False</td>\n",
       "      <td>False</td>\n",
       "    </tr>\n",
       "    <tr>\n",
       "      <th>1</th>\n",
       "      <td>False</td>\n",
       "      <td>False</td>\n",
       "      <td>False</td>\n",
       "      <td>False</td>\n",
       "      <td>False</td>\n",
       "      <td>False</td>\n",
       "    </tr>\n",
       "    <tr>\n",
       "      <th>2</th>\n",
       "      <td>False</td>\n",
       "      <td>False</td>\n",
       "      <td>False</td>\n",
       "      <td>False</td>\n",
       "      <td>False</td>\n",
       "      <td>False</td>\n",
       "    </tr>\n",
       "    <tr>\n",
       "      <th>3</th>\n",
       "      <td>False</td>\n",
       "      <td>False</td>\n",
       "      <td>False</td>\n",
       "      <td>False</td>\n",
       "      <td>False</td>\n",
       "      <td>False</td>\n",
       "    </tr>\n",
       "    <tr>\n",
       "      <th>4</th>\n",
       "      <td>False</td>\n",
       "      <td>False</td>\n",
       "      <td>False</td>\n",
       "      <td>False</td>\n",
       "      <td>False</td>\n",
       "      <td>False</td>\n",
       "    </tr>\n",
       "    <tr>\n",
       "      <th>5</th>\n",
       "      <td>False</td>\n",
       "      <td>False</td>\n",
       "      <td>False</td>\n",
       "      <td>False</td>\n",
       "      <td>False</td>\n",
       "      <td>False</td>\n",
       "    </tr>\n",
       "    <tr>\n",
       "      <th>6</th>\n",
       "      <td>False</td>\n",
       "      <td>False</td>\n",
       "      <td>False</td>\n",
       "      <td>False</td>\n",
       "      <td>False</td>\n",
       "      <td>False</td>\n",
       "    </tr>\n",
       "    <tr>\n",
       "      <th>7</th>\n",
       "      <td>False</td>\n",
       "      <td>False</td>\n",
       "      <td>False</td>\n",
       "      <td>False</td>\n",
       "      <td>False</td>\n",
       "      <td>False</td>\n",
       "    </tr>\n",
       "    <tr>\n",
       "      <th>8</th>\n",
       "      <td>False</td>\n",
       "      <td>False</td>\n",
       "      <td>False</td>\n",
       "      <td>False</td>\n",
       "      <td>False</td>\n",
       "      <td>False</td>\n",
       "    </tr>\n",
       "    <tr>\n",
       "      <th>9</th>\n",
       "      <td>False</td>\n",
       "      <td>False</td>\n",
       "      <td>False</td>\n",
       "      <td>False</td>\n",
       "      <td>False</td>\n",
       "      <td>False</td>\n",
       "    </tr>\n",
       "  </tbody>\n",
       "</table>\n",
       "</div>"
      ],
      "text/plain": [
       "    Name  Gender    Age  Height (cm)  Weight (kg)   City\n",
       "0  False   False  False        False        False  False\n",
       "1  False   False  False        False        False  False\n",
       "2  False   False  False        False        False  False\n",
       "3  False   False  False        False        False  False\n",
       "4  False   False  False        False        False  False\n",
       "5  False   False  False        False        False  False\n",
       "6  False   False  False        False        False  False\n",
       "7  False   False  False        False        False  False\n",
       "8  False   False  False        False        False  False\n",
       "9  False   False  False        False        False  False"
      ]
     },
     "execution_count": 15,
     "metadata": {},
     "output_type": "execute_result"
    }
   ],
   "source": [
    "null_value"
   ]
  },
  {
   "cell_type": "markdown",
   "id": "96e5edbe",
   "metadata": {},
   "source": [
    "##### 4.Print the average age, height, and weight of the people in the DataFrame"
   ]
  },
  {
   "cell_type": "code",
   "execution_count": 22,
   "id": "7bdcc80d",
   "metadata": {},
   "outputs": [],
   "source": [
    "avg=df['Age'].mean()\n",
    "height = df['Height (cm)'].mean()\n",
    "wt = df['Weight (kg)'].mean()"
   ]
  },
  {
   "cell_type": "code",
   "execution_count": 23,
   "id": "ac542ce7",
   "metadata": {},
   "outputs": [
    {
     "name": "stdout",
     "output_type": "stream",
     "text": [
      "Average age is  31.6\n",
      "Average height is  175.0\n",
      "Average weight is  68.9\n"
     ]
    }
   ],
   "source": [
    "print('Average age is ',avg)\n",
    "print('Average height is ',height)\n",
    "print('Average weight is ',wt)"
   ]
  },
  {
   "cell_type": "markdown",
   "id": "ee90d906",
   "metadata": {},
   "source": [
    "##### 5. Print the name and city of the person who is the tallest in the DataFrame."
   ]
  },
  {
   "cell_type": "code",
   "execution_count": 30,
   "id": "1b12f6ff",
   "metadata": {},
   "outputs": [],
   "source": [
    "taller=df.sort_values('Height (cm)',ascending=False)"
   ]
  },
  {
   "cell_type": "code",
   "execution_count": 35,
   "id": "5cdf6225",
   "metadata": {},
   "outputs": [
    {
     "name": "stdout",
     "output_type": "stream",
     "text": [
      "name and city of the person who is the tallest \n",
      "        Name  Gender  Age  Height (cm)  Weight (kg)         City\n",
      "5    Frank    Male   40          190           85      Houston\n",
      "1      Bob    Male   30          180           80  Los Angeles\n",
      "9     Jack    Male   28          180           78     New York\n",
      "2  Charlie    Male   35          175           70      Chicago\n",
      "4      Eva  Female   27          175           60     New York\n",
      "7    Henry    Male   45          175           75  Los Angeles\n",
      "8      Ivy  Female   26          172           63        Miami\n",
      "3    Diana  Female   28          170           65        Miami\n",
      "6    Grace  Female   32          168           55      Chicago\n",
      "0    Alice  Female   25          165           58     New York\n"
     ]
    }
   ],
   "source": [
    "print ('name and city of the person who is the tallest \\n ',taller)"
   ]
  },
  {
   "cell_type": "markdown",
   "id": "50c47782",
   "metadata": {},
   "source": [
    "##### 6. Create a new column in the DataFrame called \"BMI\" that calculates the body mass index of each person. BMI is calculated as weight (kg) divided by height (m) squared. Print the DataFrame with the new column."
   ]
  },
  {
   "cell_type": "code",
   "execution_count": 44,
   "id": "e2c41b98",
   "metadata": {},
   "outputs": [],
   "source": [
    "BMI=df['Weight (kg)']/(df['Height (cm)']/100)**2"
   ]
  },
  {
   "cell_type": "code",
   "execution_count": 46,
   "id": "0ed7a94a",
   "metadata": {},
   "outputs": [],
   "source": [
    "df['BMI'] = BMI"
   ]
  },
  {
   "cell_type": "code",
   "execution_count": 50,
   "id": "0192c3eb",
   "metadata": {},
   "outputs": [
    {
     "name": "stdout",
     "output_type": "stream",
     "text": [
      "      Name  Gender  Age  Height (cm)  Weight (kg)         City        BMI\n",
      "0    Alice  Female   25          165           58     New York  21.303949\n",
      "1      Bob    Male   30          180           80  Los Angeles  24.691358\n",
      "2  Charlie    Male   35          175           70      Chicago  22.857143\n",
      "3    Diana  Female   28          170           65        Miami  22.491349\n",
      "4      Eva  Female   27          175           60     New York  19.591837\n",
      "5    Frank    Male   40          190           85      Houston  23.545706\n",
      "6    Grace  Female   32          168           55      Chicago  19.486961\n",
      "7    Henry    Male   45          175           75  Los Angeles  24.489796\n",
      "8      Ivy  Female   26          172           63        Miami  21.295295\n",
      "9     Jack    Male   28          180           78     New York  24.074074\n"
     ]
    }
   ],
   "source": [
    "print (df)"
   ]
  },
  {
   "cell_type": "markdown",
   "id": "01cdf4ff",
   "metadata": {},
   "source": [
    "##### 7. Group the data by gender and print the average age, height, and weight of males and females separately."
   ]
  },
  {
   "cell_type": "code",
   "execution_count": 65,
   "id": "9f9c58a6",
   "metadata": {},
   "outputs": [
    {
     "name": "stderr",
     "output_type": "stream",
     "text": [
      "C:\\Users\\user\\AppData\\Local\\Temp\\ipykernel_3596\\2301725546.py:1: FutureWarning: The default value of numeric_only in DataFrameGroupBy.mean is deprecated. In a future version, numeric_only will default to False. Either specify numeric_only or select only columns which should be valid for the function.\n",
      "  gup = df.groupby(['Gender']).mean()\n"
     ]
    }
   ],
   "source": [
    "gup = df.groupby(['Gender']).mean()"
   ]
  },
  {
   "cell_type": "code",
   "execution_count": 64,
   "id": "7f94ed82",
   "metadata": {},
   "outputs": [
    {
     "name": "stdout",
     "output_type": "stream",
     "text": [
      "         Age  Height (cm)  Weight (kg)        BMI\n",
      "Gender                                           \n",
      "Female  27.6        170.0         60.2  20.833878\n",
      "Male    35.6        180.0         77.6  23.931615\n"
     ]
    }
   ],
   "source": [
    "print (gup)"
   ]
  },
  {
   "cell_type": "markdown",
   "id": "45fd7c68",
   "metadata": {},
   "source": [
    "##### 8. Sort the data by age in ascending order and print the first 3 rows of the sorted DataFrame."
   ]
  },
  {
   "cell_type": "code",
   "execution_count": 66,
   "id": "17e057e2",
   "metadata": {},
   "outputs": [],
   "source": [
    "ageaz=df.sort_values('Age')"
   ]
  },
  {
   "cell_type": "code",
   "execution_count": 69,
   "id": "d389b52a",
   "metadata": {},
   "outputs": [
    {
     "name": "stdout",
     "output_type": "stream",
     "text": [
      "    Name  Gender  Age  Height (cm)  Weight (kg)      City        BMI\n",
      "0  Alice  Female   25          165           58  New York  21.303949\n",
      "8    Ivy  Female   26          172           63     Miami  21.295295\n",
      "4    Eva  Female   27          175           60  New York  19.591837\n"
     ]
    }
   ],
   "source": [
    "print(ageaz.head(3))"
   ]
  },
  {
   "cell_type": "markdown",
   "id": "5882bf00",
   "metadata": {},
   "source": [
    "##### 9. Filter the data to only include people who live in New York and print the resulting DataFrame."
   ]
  },
  {
   "cell_type": "code",
   "execution_count": 83,
   "id": "f8d7a350",
   "metadata": {},
   "outputs": [],
   "source": [
    "newyork = df.loc[df['City'] == 'New York']"
   ]
  },
  {
   "cell_type": "code",
   "execution_count": 85,
   "id": "ffe22edc",
   "metadata": {},
   "outputs": [
    {
     "name": "stdout",
     "output_type": "stream",
     "text": [
      "    Name  Gender  Age  Height (cm)  Weight (kg)      City        BMI\n",
      "0  Alice  Female   25          165           58  New York  21.303949\n",
      "4    Eva  Female   27          175           60  New York  19.591837\n",
      "9   Jack    Male   28          180           78  New York  24.074074\n"
     ]
    }
   ],
   "source": [
    "print (newyork)"
   ]
  },
  {
   "cell_type": "code",
   "execution_count": null,
   "id": "4b378544",
   "metadata": {},
   "outputs": [],
   "source": []
  }
 ],
 "metadata": {
  "kernelspec": {
   "display_name": "Python 3 (ipykernel)",
   "language": "python",
   "name": "python3"
  },
  "language_info": {
   "codemirror_mode": {
    "name": "ipython",
    "version": 3
   },
   "file_extension": ".py",
   "mimetype": "text/x-python",
   "name": "python",
   "nbconvert_exporter": "python",
   "pygments_lexer": "ipython3",
   "version": "3.10.0"
  }
 },
 "nbformat": 4,
 "nbformat_minor": 5
}
