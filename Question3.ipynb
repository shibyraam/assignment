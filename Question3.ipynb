{
 "cells": [
  {
   "cell_type": "markdown",
   "id": "c2d78469",
   "metadata": {},
   "source": [
    "#### Write a function add_numbers that takes two numbers as arguments and returns their sum\n",
    "#### Write a function multiply_numbers that takes two numbers as arguments and returns their product.\n",
    "#### Write a function divide_numbers that takes two numbers as arguments and returns their quotient. Make sure to handle the case where the second number is 0."
   ]
  },
  {
   "cell_type": "code",
   "execution_count": 13,
   "id": "ab4e2c78",
   "metadata": {},
   "outputs": [
    {
     "name": "stdout",
     "output_type": "stream",
     "text": [
      "Enter a x value: 10\n",
      "Enter a y value: 00\n",
      "Sum of 10 and 0 is 10;\n",
      "Sub of 10 and 0 is 10;\n",
      "Multiple of 10 and 0 is 0;\n",
      "Divided y value 0 is not valid\n"
     ]
    }
   ],
   "source": [
    "x=int(input('Enter a x value: '))\n",
    "y=int(input('Enter a y value: '))\n",
    "def add(a,b):\n",
    "    return a+b\n",
    "sum_of_two_numbers = add(x,y)\n",
    "print(\"Sum of {0} and {1} is {2};\" .format(x,y, sum_of_two_numbers))\n",
    "\n",
    "def sub(a,b):\n",
    "    return a-b\n",
    "sub_of_two_numbers = sub(x,y)\n",
    "print(\"Sub of {0} and {1} is {2};\" .format(x,y, sub_of_two_numbers))\n",
    "\n",
    "def multi(a,b):\n",
    "    return a*b\n",
    "multi_of_two_numbers = multi(x,y)\n",
    "print(\"Multiple of {0} and {1} is {2};\" .format(x,y, multi_of_two_numbers))\n",
    "\n",
    "if y!=0:\n",
    "    def div(a,b):\n",
    "        return a/b\n",
    "    div_of_two_numbers = div(x,y)\n",
    "    print(\"Divide of {0} and {1} is {2};\" .format(x,y, div_of_two_numbers))\n",
    "elif y==0:\n",
    "    print('Divided y value',y,'is not valid')"
   ]
  },
  {
   "cell_type": "markdown",
   "id": "73f8586d",
   "metadata": {},
   "source": [
    "#### Write a function calculate_average that takes a list of numbers as an argument and returns their average."
   ]
  },
  {
   "cell_type": "code",
   "execution_count": 24,
   "id": "cabcfa6b",
   "metadata": {},
   "outputs": [
    {
     "name": "stdout",
     "output_type": "stream",
     "text": [
      "Average of the list = 4.5\n"
     ]
    }
   ],
   "source": [
    "def Average(lst):\n",
    "    return sum(lst) / len(lst)\n",
    "\n",
    "lst = [1, 2, 3, 4, 5, 6, 7, 8]\n",
    "average = Average(lst)\n",
    "\n",
    "print(\"Average of the list =\", round(average,2))\n"
   ]
  },
  {
   "cell_type": "markdown",
   "id": "8343afd5",
   "metadata": {},
   "source": [
    "#### Write a function is_prime that takes a number as an argument and returns True if the number is prime and False otherwise"
   ]
  },
  {
   "cell_type": "code",
   "execution_count": 37,
   "id": "c5c3c293",
   "metadata": {},
   "outputs": [
    {
     "name": "stdout",
     "output_type": "stream",
     "text": [
      "enter a number: 23\n",
      "True\n"
     ]
    }
   ],
   "source": [
    "def is_prime(n):\n",
    "\n",
    "    if n <= 1:\n",
    "        return False\n",
    "    for i in range(2, int(n**0.5)+1):\n",
    "        if n % i == 0:\n",
    "            return False\n",
    "    return True\n",
    "j=int(input('enter a number: '))\n",
    "print(is_prime(j))\n"
   ]
  },
  {
   "cell_type": "markdown",
   "id": "348f19bb",
   "metadata": {},
   "source": [
    "### OOPS\n",
    "#### Create a class Bank with attributes name and accounts. Add methods add_account, remove_account, and get_total_balance that add an account to the list, remove an account from the list, and return the total balance of all accounts, respectively"
   ]
  },
  {
   "cell_type": "code",
   "execution_count": 38,
   "id": "6578c4fc",
   "metadata": {},
   "outputs": [
    {
     "name": "stdout",
     "output_type": "stream",
     "text": [
      "Account Number :  1234567890\n",
      "Account Name :  Raam\n",
      "Account Balance :  2600  $\n"
     ]
    }
   ],
   "source": [
    "class BankAccount:\n",
    "    # create the constuctor with parameters: accountNumber, name and balance \n",
    "    def __init__(self,accountNumber, name, balance):\n",
    "        self.accountNumber = accountNumber\n",
    "        self.name = name\n",
    "        self.balance = balance\n",
    "        \n",
    "    # create Deposit() method\n",
    "    def Deposit(self , d ):\n",
    "        self.balance = self.balance + d\n",
    "    \n",
    "    # create Withdrawal method\n",
    "    def Withdrawal(self , w):\n",
    "        if(self.balance < w):\n",
    "            print(\"impossible operation! Insufficient balance !\")\n",
    "        else:\n",
    "            self.balance = self.balance - w\n",
    "    # create bankFees() method\n",
    "    def bankFees(self):\n",
    "        self.balance = (95/100)*self.balance\n",
    "        \n",
    "    # create display() method\n",
    "    def display(self):\n",
    "        print(\"Account Number : \" , self.accountNumber)\n",
    "        print(\"Account Name : \" , self.name)\n",
    "        print(\"Account Balance : \" , self.balance , \" $\")\n",
    "        \n",
    "# Testing the code :\n",
    "newAccount = BankAccount(1234567890, \"Raam\" , 2700)\n",
    "# Creating Withdrawal Test\n",
    "newAccount.Withdrawal(300)\n",
    "# Create deposit test\n",
    "newAccount.Deposit(200)\n",
    "# Display account informations\n",
    "newAccount.display()"
   ]
  }
 ],
 "metadata": {
  "kernelspec": {
   "display_name": "Python 3 (ipykernel)",
   "language": "python",
   "name": "python3"
  },
  "language_info": {
   "codemirror_mode": {
    "name": "ipython",
    "version": 3
   },
   "file_extension": ".py",
   "mimetype": "text/x-python",
   "name": "python",
   "nbconvert_exporter": "python",
   "pygments_lexer": "ipython3",
   "version": "3.10.0"
  }
 },
 "nbformat": 4,
 "nbformat_minor": 5
}
